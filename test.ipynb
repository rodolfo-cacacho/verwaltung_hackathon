{
 "cells": [
  {
   "cell_type": "code",
   "execution_count": 2,
   "metadata": {},
   "outputs": [
    {
     "name": "stdout",
     "output_type": "stream",
     "text": [
      "Split into 17 documents.\n"
     ]
    }
   ],
   "source": [
    "from PyPDF2 import PdfReader\n",
    "import re\n",
    "\n",
    "# Load the PDF\n",
    "pdf_path = \"16 Beispielstellung - Hackathon_Datenschutzkonform Ri.pdf\"\n",
    "doc = PdfReader(pdf_path)\n",
    "\n",
    "# Extract full text from PDF\n",
    "full_text = \"\"\n",
    "for page in doc.pages:  # <-- Fix is here!\n",
    "    full_text += page.extract_text()  # Also use extract_text() not get_text()\n",
    "\n",
    "# Use regex to split at every digit followed by a dot (e.g., \"1.\", \"2.\", etc.)\n",
    "# Positive lookahead to keep the split pattern\n",
    "documents = re.split(r\"(?=\\n?\\d+\\.\\s)\", full_text)\n",
    "\n",
    "# Clean up the resulting splits\n",
    "documents = [doc.strip() for doc in documents if doc.strip()]\n",
    "\n",
    "# Optionally: print or save\n",
    "for idx, content in enumerate(documents, 1):\n",
    "    with open(f\"doc_{idx}.txt\", \"w\", encoding=\"utf-8\") as f:\n",
    "        f.write(content)\n",
    "\n",
    "print(f\"Split into {len(documents)} documents.\")\n"
   ]
  }
 ],
 "metadata": {
  "kernelspec": {
   "display_name": "kurve_env",
   "language": "python",
   "name": "python3"
  },
  "language_info": {
   "codemirror_mode": {
    "name": "ipython",
    "version": 3
   },
   "file_extension": ".py",
   "mimetype": "text/x-python",
   "name": "python",
   "nbconvert_exporter": "python",
   "pygments_lexer": "ipython3",
   "version": "3.12.9"
  }
 },
 "nbformat": 4,
 "nbformat_minor": 2
}
