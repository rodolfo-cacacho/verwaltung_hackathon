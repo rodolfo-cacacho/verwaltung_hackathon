{
 "cells": [
  {
   "cell_type": "code",
   "execution_count": null,
   "metadata": {},
   "outputs": [
    {
     "name": "stderr",
     "output_type": "stream",
     "text": [
      "/Users/rodolfocacacho/miniforge3/envs/hackathon/lib/python3.12/site-packages/tqdm/auto.py:21: TqdmWarning: IProgress not found. Please update jupyter and ipywidgets. See https://ipywidgets.readthedocs.io/en/stable/user_install.html\n",
      "  from .autonotebook import tqdm as notebook_tqdm\n"
     ]
    }
   ],
   "source": [
    "from docling.document_converter import DocumentConverter\n",
    "import re\n",
    "from ollama import chat\n",
    "import json"
   ]
  },
  {
   "cell_type": "code",
   "execution_count": null,
   "metadata": {},
   "outputs": [],
   "source": [
    "# Initialize the converter\n",
    "converter = DocumentConverter()\n",
    "\n",
    "# Path to your PDF file\n",
    "pdf_path = \"16 Beispielstellung - Hackathon_Datenschutzkonform Ri.pdf\"\n",
    "\n",
    "# Convert the PDF\n",
    "result = converter.convert(pdf_path)"
   ]
  },
  {
   "cell_type": "code",
   "execution_count": 6,
   "metadata": {},
   "outputs": [
    {
     "name": "stderr",
     "output_type": "stream",
     "text": [
      "Parameter `strict_text` has been deprecated and will be ignored.\n"
     ]
    },
    {
     "name": "stdout",
     "output_type": "stream",
     "text": [
      "Split into 18 documents.\n"
     ]
    }
   ],
   "source": [
    "full_text = result.document.export_to_text()\n",
    "\n",
    "# Use regex to split at every digit followed by a dot (e.g., \"1.\", \"2.\", etc.)\n",
    "# Positive lookahead to keep the split pattern\n",
    "documents = re.split(r\"(?=\\n?\\d+\\.\\s)\", full_text)\n",
    "\n",
    "# Clean up the resulting splits\n",
    "documents = [doc.strip() for doc in documents if doc.strip()]\n",
    "\n",
    "# Optionally: print or save\n",
    "for idx, content in enumerate(documents, 1):\n",
    "    with open(f\"doc_{idx}.txt\", \"w\", encoding=\"utf-8\") as f:\n",
    "        f.write(content)\n",
    "\n",
    "print(f\"Split into {len(documents)} documents.\")"
   ]
  },
  {
   "cell_type": "code",
   "execution_count": null,
   "metadata": {},
   "outputs": [],
   "source": [
    "# Base function\n",
    "def chat_with_ollama(prompt: str, model: str = \"llama3\") -> str:\n",
    "    response = chat(\n",
    "        model=model,\n",
    "        messages=[{\n",
    "            'role': 'user',\n",
    "            'content': prompt\n",
    "        }]\n",
    "    )\n",
    "    return response.message.content\n",
    "\n",
    "# Summarize function\n",
    "def summarize_text(text: str, model: str = \"llama3\") -> str:\n",
    "    prompt = f\"\"\"\n",
    "Please summarize the following text in 3-5 sentences:\n",
    "\n",
    "\\\"\\\"\\\"{text}\\\"\\\"\\\"\n",
    "\"\"\"\n",
    "    return chat_with_ollama(prompt, model=model)\n",
    "\n",
    "# Key points function\n",
    "def list_key_points(text: str, model: str = \"llama3\") -> str:\n",
    "    prompt = f\"\"\"\n",
    "List the key points of the following text as bullet points:\n",
    "\n",
    "\\\"\\\"\\\"{text}\\\"\\\"\\\"\n",
    "\"\"\"\n",
    "    return chat_with_ollama(prompt, model=model)\n",
    "\n",
    "def read_json_file(filepath: str) -> dict:\n",
    "    with open(filepath, 'r', encoding='utf-8') as f:\n",
    "        data = json.load(f)\n",
    "    return data"
   ]
  },
  {
   "cell_type": "code",
   "execution_count": null,
   "metadata": {},
   "outputs": [],
   "source": []
  }
 ],
 "metadata": {
  "kernelspec": {
   "display_name": "hackathon",
   "language": "python",
   "name": "python3"
  },
  "language_info": {
   "codemirror_mode": {
    "name": "ipython",
    "version": 3
   },
   "file_extension": ".py",
   "mimetype": "text/x-python",
   "name": "python",
   "nbconvert_exporter": "python",
   "pygments_lexer": "ipython3",
   "version": "3.12.9"
  }
 },
 "nbformat": 4,
 "nbformat_minor": 2
}
