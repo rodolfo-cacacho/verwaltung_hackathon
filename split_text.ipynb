{
 "cells": [
  {
   "cell_type": "code",
   "execution_count": 2,
   "metadata": {},
   "outputs": [
    {
     "name": "stdout",
     "output_type": "stream",
     "text": [
      "Saved 16 documents into split_documents.json 🚀\n"
     ]
    }
   ],
   "source": [
    "from PyPDF2 import PdfReader\n",
    "import re\n",
    "import json\n",
    "\n",
    "# Load PDF\n",
    "pdf_path = \"16 Beispielstellung - Hackathon_Datenschutzkonform Ri.pdf\"\n",
    "doc = PdfReader(pdf_path)\n",
    "\n",
    "# Extract text\n",
    "full_text = \"\"\n",
    "for page in doc.pages:\n",
    "    text = page.extract_text()\n",
    "    if text:\n",
    "        full_text += \"\\n\" + text\n",
    "\n",
    "# Improved regex to split at exact section numbers (e.g., '1.', '2.', ..., '15.') only at line start\n",
    "documents = re.split(r\"(?m)(?=^\\d{1,2}\\.\\s)\", full_text)\n",
    "\n",
    "# Clean up\n",
    "documents = [doc.strip() for doc in documents if doc.strip()]\n",
    "\n",
    "# Create JSON-style output\n",
    "json_output = []\n",
    "for idx, content in enumerate(documents):\n",
    "    json_output.append({\n",
    "        \"Document_Id\": str(idx),\n",
    "        \"source\": pdf_path,\n",
    "        \"content\": content\n",
    "    })\n",
    "\n",
    "# Save as JSON\n",
    "with open(\"split_documents.json\", \"w\", encoding=\"utf-8\") as f:\n",
    "    json.dump(json_output, f, indent=4, ensure_ascii=False)\n",
    "\n",
    "print(f\"Saved {len(json_output)} documents into split_documents.json 🚀\")\n"
   ]
  },
  {
   "cell_type": "code",
   "execution_count": null,
   "metadata": {},
   "outputs": [],
   "source": []
  }
 ],
 "metadata": {
  "kernelspec": {
   "display_name": "kurve_env",
   "language": "python",
   "name": "python3"
  },
  "language_info": {
   "codemirror_mode": {
    "name": "ipython",
    "version": 3
   },
   "file_extension": ".py",
   "mimetype": "text/x-python",
   "name": "python",
   "nbconvert_exporter": "python",
   "pygments_lexer": "ipython3",
   "version": "3.12.9"
  }
 },
 "nbformat": 4,
 "nbformat_minor": 2
}
